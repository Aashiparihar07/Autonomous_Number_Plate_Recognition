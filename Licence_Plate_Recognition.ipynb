{
  "nbformat": 4,
  "nbformat_minor": 0,
  "metadata": {
    "colab": {
      "provenance": [],
      "gpuType": "T4",
      "toc_visible": true
    },
    "kernelspec": {
      "name": "python3",
      "display_name": "Python 3"
    },
    "language_info": {
      "name": "python"
    },
    "accelerator": "GPU"
  },
  "cells": [
    {
      "cell_type": "code",
      "execution_count": null,
      "metadata": {
        "id": "soj7oqxKXLDW"
      },
      "outputs": [],
      "source": [
        "!git clone https://github.com/Aashiparihar07/Autonomous_Number_Plate_Recognition.git"
      ]
    },
    {
      "cell_type": "code",
      "source": [
        "!cd /content/Autonomous_Number_Plate_Recognition/"
      ],
      "metadata": {
        "id": "YI3lrkLBcV-o"
      },
      "execution_count": null,
      "outputs": []
    },
    {
      "cell_type": "code",
      "source": [
        "!pip install -r requirement.txt"
      ],
      "metadata": {
        "id": "SAy_5DdlcPaG"
      },
      "execution_count": null,
      "outputs": []
    },
    {
      "cell_type": "code",
      "source": [
        "!python main.py model='/content/Autonomous_Number_Plate_Recognition/number_plate_recognition.pt' source='/content/Autonomous_Number_Plate_Recognition/vehicle.mp4'"
      ],
      "metadata": {
        "id": "jUhBdfQ-cbzV"
      },
      "execution_count": null,
      "outputs": []
    }
  ]
}